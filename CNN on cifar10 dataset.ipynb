{
 "cells": [
  {
   "cell_type": "code",
   "execution_count": 2,
   "id": "f66274cb",
   "metadata": {},
   "outputs": [],
   "source": [
    "#import libraries\n",
    "import tensorflow\n",
    "from tensorflow.keras import datasets , models,layers\n",
    "import matplotlib.pyplot as plt\n",
    "import numpy as np"
   ]
  },
  {
   "cell_type": "code",
   "execution_count": 3,
   "id": "f667104e",
   "metadata": {},
   "outputs": [],
   "source": [
    "#load dataset\n",
    "(x_train,y_train),(x_test,y_test) = datasets.cifar10.load_data()"
   ]
  },
  {
   "cell_type": "code",
   "execution_count": 4,
   "id": "88443ffd",
   "metadata": {},
   "outputs": [],
   "source": [
    "x_train =x_train/255 #divided by 255 \n",
    "x_test = x_test/255"
   ]
  },
  {
   "cell_type": "markdown",
   "id": "dabbaf15",
   "metadata": {},
   "source": [
    "divided by 255 because 255 is the largest pixel value of an image. 0-255 pixel value are used to represent any color in a image"
   ]
  },
  {
   "cell_type": "code",
   "execution_count": 5,
   "id": "bc177379",
   "metadata": {},
   "outputs": [
    {
     "data": {
      "text/plain": [
       "array([[[0.23137255, 0.24313725, 0.24705882],\n",
       "        [0.16862745, 0.18039216, 0.17647059],\n",
       "        [0.19607843, 0.18823529, 0.16862745],\n",
       "        ...,\n",
       "        [0.61960784, 0.51764706, 0.42352941],\n",
       "        [0.59607843, 0.49019608, 0.4       ],\n",
       "        [0.58039216, 0.48627451, 0.40392157]],\n",
       "\n",
       "       [[0.0627451 , 0.07843137, 0.07843137],\n",
       "        [0.        , 0.        , 0.        ],\n",
       "        [0.07058824, 0.03137255, 0.        ],\n",
       "        ...,\n",
       "        [0.48235294, 0.34509804, 0.21568627],\n",
       "        [0.46666667, 0.3254902 , 0.19607843],\n",
       "        [0.47843137, 0.34117647, 0.22352941]],\n",
       "\n",
       "       [[0.09803922, 0.09411765, 0.08235294],\n",
       "        [0.0627451 , 0.02745098, 0.        ],\n",
       "        [0.19215686, 0.10588235, 0.03137255],\n",
       "        ...,\n",
       "        [0.4627451 , 0.32941176, 0.19607843],\n",
       "        [0.47058824, 0.32941176, 0.19607843],\n",
       "        [0.42745098, 0.28627451, 0.16470588]],\n",
       "\n",
       "       ...,\n",
       "\n",
       "       [[0.81568627, 0.66666667, 0.37647059],\n",
       "        [0.78823529, 0.6       , 0.13333333],\n",
       "        [0.77647059, 0.63137255, 0.10196078],\n",
       "        ...,\n",
       "        [0.62745098, 0.52156863, 0.2745098 ],\n",
       "        [0.21960784, 0.12156863, 0.02745098],\n",
       "        [0.20784314, 0.13333333, 0.07843137]],\n",
       "\n",
       "       [[0.70588235, 0.54509804, 0.37647059],\n",
       "        [0.67843137, 0.48235294, 0.16470588],\n",
       "        [0.72941176, 0.56470588, 0.11764706],\n",
       "        ...,\n",
       "        [0.72156863, 0.58039216, 0.36862745],\n",
       "        [0.38039216, 0.24313725, 0.13333333],\n",
       "        [0.3254902 , 0.20784314, 0.13333333]],\n",
       "\n",
       "       [[0.69411765, 0.56470588, 0.45490196],\n",
       "        [0.65882353, 0.50588235, 0.36862745],\n",
       "        [0.70196078, 0.55686275, 0.34117647],\n",
       "        ...,\n",
       "        [0.84705882, 0.72156863, 0.54901961],\n",
       "        [0.59215686, 0.4627451 , 0.32941176],\n",
       "        [0.48235294, 0.36078431, 0.28235294]]])"
      ]
     },
     "execution_count": 5,
     "metadata": {},
     "output_type": "execute_result"
    }
   ],
   "source": [
    "x_train[0] #it shows the pixel values of image in x_train at zero index "
   ]
  },
  {
   "cell_type": "code",
   "execution_count": 6,
   "id": "85345895",
   "metadata": {},
   "outputs": [
    {
     "data": {
      "text/plain": [
       "(50000, 32, 32, 3)"
      ]
     },
     "execution_count": 6,
     "metadata": {},
     "output_type": "execute_result"
    }
   ],
   "source": [
    "x_train.shape"
   ]
  },
  {
   "cell_type": "markdown",
   "id": "54421bf9",
   "metadata": {},
   "source": [
    "This shows the shape of x_train"
   ]
  },
  {
   "cell_type": "code",
   "execution_count": 7,
   "id": "344a6157",
   "metadata": {},
   "outputs": [
    {
     "data": {
      "text/plain": [
       "array([[6],\n",
       "       [9],\n",
       "       [9],\n",
       "       [4],\n",
       "       [1]], dtype=uint8)"
      ]
     },
     "execution_count": 7,
     "metadata": {},
     "output_type": "execute_result"
    }
   ],
   "source": [
    "y_train[:5] # first five element of classes "
   ]
  },
  {
   "cell_type": "code",
   "execution_count": 8,
   "id": "f322858a",
   "metadata": {
    "scrolled": true
   },
   "outputs": [
    {
     "data": {
      "text/plain": [
       "array([6, 9, 9, 4, 1], dtype=uint8)"
      ]
     },
     "execution_count": 8,
     "metadata": {},
     "output_type": "execute_result"
    }
   ],
   "source": [
    "y_train = y_train.reshape(-1,) #reshape from 2D to 1D array\n",
    "y_train[:5]"
   ]
  },
  {
   "cell_type": "code",
   "execution_count": 9,
   "id": "de203276",
   "metadata": {},
   "outputs": [],
   "source": [
    "classes = ['airplane','automobile','bird','cat','deer','dog','frog','horse','ship','truck']#sequence of classes"
   ]
  },
  {
   "cell_type": "code",
   "execution_count": 10,
   "id": "27f0c972",
   "metadata": {},
   "outputs": [
    {
     "data": {
      "image/png": "[encoded data removed]",
      "text/plain": [
       "<Figure size 1080x144 with 1 Axes>"
      ]
     },
     "metadata": {
      "needs_background": "light"
     },
     "output_type": "display_data"
    }
   ],
   "source": [
    " \n",
    "def label (x,y,index):\n",
    "    \n",
    "    plt.figure(figsize = (15,2))\n",
    "    plt.imshow(x_train[index])\n",
    "    plt.xlabel(classes[y[index]])\n",
    "label(x_train,y_train,1)\n"
   ]
  },
  {
   "cell_type": "markdown",
   "id": "a0f2b5c1",
   "metadata": {},
   "source": [
    "# ANN \n"
   ]
  },
  {
   "cell_type": "code",
   "execution_count": 10,
   "id": "212ab2be",
   "metadata": {},
   "outputs": [
    {
     "name": "stdout",
     "output_type": "stream",
     "text": [
      "Epoch 1/2\n",
      "1563/1563 [==============================] - 517s 329ms/step - loss: 1.9092 - accuracy: 0.2917\n",
      "Epoch 2/2\n",
      "1563/1563 [==============================] - 564s 361ms/step - loss: 1.7192 - accuracy: 0.3757\n"
     ]
    },
    {
     "data": {
      "text/plain": [
       "<keras.callbacks.History at 0x1bfca0e5940>"
      ]
     },
     "execution_count": 10,
     "metadata": {},
     "output_type": "execute_result"
    }
   ],
   "source": [
    "model = models.Sequential([\n",
    "    layers.Flatten(input_shape = (32,32,3)),\n",
    "    layers.Dense(3000, activation = 'relu'),\n",
    "    layers.Dense(1500, activation ='relu'),\n",
    "    layers.Dense(700, activation = 'relu'),\n",
    "    layers.Dense(10 , activation  = 'sigmoid')\n",
    "])\n",
    "model.compile(optimizer = 'adam', loss = 'sparse_categorical_crossentropy' , metrics = ['accuracy'])\n",
    "model.fit(x_train,y_train, epochs =2)"
   ]
  },
  {
   "cell_type": "markdown",
   "id": "5bb67b3f",
   "metadata": {},
   "source": [
    "As you see ANN is not best for pictures dataset"
   ]
  },
  {
   "cell_type": "markdown",
   "id": "1588522d",
   "metadata": {},
   "source": [
    "# CNN"
   ]
  },
  {
   "cell_type": "code",
   "execution_count": 11,
   "id": "b44f9e19",
   "metadata": {},
   "outputs": [],
   "source": [
    "model1 =models.Sequential([\n",
    "    layers.Conv2D(filters = 32 ,kernel_size=(3,3) , activation = 'relu' , input_shape = (32,32,3)),\n",
    "    layers.MaxPooling2D((2,2)),\n",
    "    \n",
    "    layers.Conv2D(filters =64 ,kernel_size=(3,3) , activation='relu'),\n",
    "    layers.MaxPooling2D((2,2)),\n",
    "    \n",
    "    layers.Conv2D(filters =128 ,kernel_size=(3,3) , activation='relu'),\n",
    "    layers.MaxPooling2D((2,2)),\n",
    "    \n",
    "    layers.Flatten(),\n",
    "    layers.Dense(64, activation = 'relu'),\n",
    "    layers.Dense(10 , activation  = 'softmax')\n",
    "    \n",
    "])"
   ]
  },
  {
   "cell_type": "code",
   "execution_count": 12,
   "id": "564d1a48",
   "metadata": {},
   "outputs": [],
   "source": [
    "model1.compile(optimizer = 'sgd', \n",
    "               loss = 'sparse_categorical_crossentropy' ,\n",
    "               metrics = ['accuracy'])\n"
   ]
  },
  {
   "cell_type": "code",
   "execution_count": 14,
   "id": "e12a59c8",
   "metadata": {},
   "outputs": [
    {
     "name": "stdout",
     "output_type": "stream",
     "text": [
      "Epoch 1/50\n",
      "1563/1563 [==============================] - 58s 37ms/step - loss: 0.6533 - accuracy: 0.7753\n",
      "Epoch 2/50\n",
      "1563/1563 [==============================] - 53s 34ms/step - loss: 0.6270 - accuracy: 0.7808\n",
      "Epoch 3/50\n",
      "1563/1563 [==============================] - 53s 34ms/step - loss: 0.6048 - accuracy: 0.7883\n",
      "Epoch 4/50\n",
      "1563/1563 [==============================] - 54s 34ms/step - loss: 0.5803 - accuracy: 0.7986\n",
      "Epoch 5/50\n",
      "1563/1563 [==============================] - 55s 35ms/step - loss: 0.5592 - accuracy: 0.8067\n",
      "Epoch 6/50\n",
      "1563/1563 [==============================] - 55s 35ms/step - loss: 0.5335 - accuracy: 0.8134\n",
      "Epoch 7/50\n",
      "1563/1563 [==============================] - 53s 34ms/step - loss: 0.5111 - accuracy: 0.8225\n",
      "Epoch 8/50\n",
      "1563/1563 [==============================] - 53s 34ms/step - loss: 0.4917 - accuracy: 0.8293\n",
      "Epoch 9/50\n",
      "1563/1563 [==============================] - 54s 35ms/step - loss: 0.4707 - accuracy: 0.8351\n",
      "Epoch 10/50\n",
      "1563/1563 [==============================] - 53s 34ms/step - loss: 0.4504 - accuracy: 0.8451\n",
      "Epoch 11/50\n",
      "1563/1563 [==============================] - 54s 34ms/step - loss: 0.4320 - accuracy: 0.8485\n",
      "Epoch 12/50\n",
      "1563/1563 [==============================] - 53s 34ms/step - loss: 0.4099 - accuracy: 0.8578\n",
      "Epoch 13/50\n",
      "1563/1563 [==============================] - 53s 34ms/step - loss: 0.3919 - accuracy: 0.8644\n",
      "Epoch 14/50\n",
      "1563/1563 [==============================] - 53s 34ms/step - loss: 0.3730 - accuracy: 0.8704\n",
      "Epoch 15/50\n",
      "1563/1563 [==============================] - 56s 36ms/step - loss: 0.3545 - accuracy: 0.8762\n",
      "Epoch 16/50\n",
      "1563/1563 [==============================] - 55s 35ms/step - loss: 0.3363 - accuracy: 0.8834\n",
      "Epoch 17/50\n",
      "1563/1563 [==============================] - 53s 34ms/step - loss: 0.3185 - accuracy: 0.8892\n",
      "Epoch 18/50\n",
      "1563/1563 [==============================] - 53s 34ms/step - loss: 0.3020 - accuracy: 0.8947\n",
      "Epoch 19/50\n",
      "1563/1563 [==============================] - 54s 34ms/step - loss: 0.2849 - accuracy: 0.9000\n",
      "Epoch 20/50\n",
      "1563/1563 [==============================] - 54s 34ms/step - loss: 0.2690 - accuracy: 0.9057\n",
      "Epoch 21/50\n",
      "1563/1563 [==============================] - 54s 34ms/step - loss: 0.2565 - accuracy: 0.9096\n",
      "Epoch 22/50\n",
      "1563/1563 [==============================] - 53s 34ms/step - loss: 0.2387 - accuracy: 0.9162\n",
      "Epoch 23/50\n",
      "1563/1563 [==============================] - 54s 34ms/step - loss: 0.2261 - accuracy: 0.9202\n",
      "Epoch 24/50\n",
      "1563/1563 [==============================] - 53s 34ms/step - loss: 0.2136 - accuracy: 0.9239\n",
      "Epoch 25/50\n",
      "1563/1563 [==============================] - 53s 34ms/step - loss: 0.1996 - accuracy: 0.9311\n",
      "Epoch 26/50\n",
      "1563/1563 [==============================] - 55s 35ms/step - loss: 0.1893 - accuracy: 0.9333\n",
      "Epoch 27/50\n",
      "1563/1563 [==============================] - 54s 34ms/step - loss: 0.1726 - accuracy: 0.9406\n",
      "Epoch 28/50\n",
      "1563/1563 [==============================] - 53s 34ms/step - loss: 0.1647 - accuracy: 0.9435\n",
      "Epoch 29/50\n",
      "1563/1563 [==============================] - 53s 34ms/step - loss: 0.1506 - accuracy: 0.9479\n",
      "Epoch 30/50\n",
      "1563/1563 [==============================] - 53s 34ms/step - loss: 0.1427 - accuracy: 0.9510\n",
      "Epoch 31/50\n",
      "1563/1563 [==============================] - 53s 34ms/step - loss: 0.1325 - accuracy: 0.9545\n",
      "Epoch 32/50\n",
      "1563/1563 [==============================] - 55s 35ms/step - loss: 0.1280 - accuracy: 0.9557\n",
      "Epoch 33/50\n",
      "1563/1563 [==============================] - 54s 35ms/step - loss: 0.1249 - accuracy: 0.9579\n",
      "Epoch 34/50\n",
      "1563/1563 [==============================] - 54s 34ms/step - loss: 0.1097 - accuracy: 0.9627\n",
      "Epoch 35/50\n",
      "1563/1563 [==============================] - 54s 35ms/step - loss: 0.1062 - accuracy: 0.9631\n",
      "Epoch 36/50\n",
      "1563/1563 [==============================] - 54s 34ms/step - loss: 0.0993 - accuracy: 0.9666\n",
      "Epoch 37/50\n",
      "1563/1563 [==============================] - 55s 35ms/step - loss: 0.0927 - accuracy: 0.9693\n",
      "Epoch 38/50\n",
      "1563/1563 [==============================] - 54s 35ms/step - loss: 0.0926 - accuracy: 0.9689\n",
      "Epoch 39/50\n",
      "1563/1563 [==============================] - 67s 43ms/step - loss: 0.0839 - accuracy: 0.9721\n",
      "Epoch 40/50\n",
      "1563/1563 [==============================] - 62s 40ms/step - loss: 0.0720 - accuracy: 0.9764\n",
      "Epoch 41/50\n",
      "1563/1563 [==============================] - 62s 40ms/step - loss: 0.0647 - accuracy: 0.9799\n",
      "Epoch 42/50\n",
      "1563/1563 [==============================] - 63s 40ms/step - loss: 0.0625 - accuracy: 0.9793\n",
      "Epoch 43/50\n",
      "1563/1563 [==============================] - 62s 40ms/step - loss: 0.0746 - accuracy: 0.9739\n",
      "Epoch 44/50\n",
      "1563/1563 [==============================] - 62s 40ms/step - loss: 0.0905 - accuracy: 0.9695\n",
      "Epoch 45/50\n",
      "1563/1563 [==============================] - 62s 40ms/step - loss: 0.0837 - accuracy: 0.9705\n",
      "Epoch 46/50\n",
      "1563/1563 [==============================] - 62s 40ms/step - loss: 0.0594 - accuracy: 0.9806\n",
      "Epoch 47/50\n",
      "1563/1563 [==============================] - 63s 40ms/step - loss: 0.0508 - accuracy: 0.9831\n",
      "Epoch 48/50\n",
      "1563/1563 [==============================] - 66s 42ms/step - loss: 0.0534 - accuracy: 0.9826\n",
      "Epoch 49/50\n",
      "1563/1563 [==============================] - 66s 42ms/step - loss: 0.0625 - accuracy: 0.9783\n",
      "Epoch 50/50\n",
      "1563/1563 [==============================] - 66s 42ms/step - loss: 0.0366 - accuracy: 0.9888\n"
     ]
    },
    {
     "data": {
      "text/plain": [
       "<keras.callbacks.History at 0x27d70064ac0>"
      ]
     },
     "execution_count": 14,
     "metadata": {},
     "output_type": "execute_result"
    }
   ],
   "source": [
    "model1.fit(x_train,y_train,epochs =50)"
   ]
  },
  {
   "cell_type": "code",
   "execution_count": 15,
   "id": "8e12d2ed",
   "metadata": {},
   "outputs": [
    {
     "name": "stdout",
     "output_type": "stream",
     "text": [
      "1563/1563 [==============================] - 16s 9ms/step - loss: 0.0265 - accuracy: 0.9934\n"
     ]
    },
    {
     "data": {
      "text/plain": [
       "[0.026539521291851997, 0.9934399724006653]"
      ]
     },
     "execution_count": 15,
     "metadata": {},
     "output_type": "execute_result"
    }
   ],
   "source": [
    "model1.evaluate(x_train,y_train)"
   ]
  },
  {
   "cell_type": "code",
   "execution_count": 16,
   "id": "1cc6fd96",
   "metadata": {},
   "outputs": [],
   "source": [
    "y_test = y_test.reshape(-1,)"
   ]
  },
  {
   "cell_type": "code",
   "execution_count": 17,
   "id": "7a6a7255",
   "metadata": {},
   "outputs": [
    {
     "name": "stdout",
     "output_type": "stream",
     "text": [
      "313/313 [==============================] - 3s 9ms/step - loss: 2.4187 - accuracy: 0.6959\n"
     ]
    },
    {
     "data": {
      "text/plain": [
       "[2.4186973571777344, 0.695900022983551]"
      ]
     },
     "execution_count": 17,
     "metadata": {},
     "output_type": "execute_result"
    }
   ],
   "source": [
    "model1.evaluate(x_test,y_test)"
   ]
  },
  {
   "cell_type": "code",
   "execution_count": 18,
   "id": "0e4ee6c3",
   "metadata": {},
   "outputs": [
    {
     "name": "stdout",
     "output_type": "stream",
     "text": [
      "313/313 [==============================] - 3s 9ms/step\n"
     ]
    },
    {
     "data": {
      "text/plain": [
       "array([[1.3168703e-04, 5.2338706e-12, 1.4226774e-12, 9.9975020e-01,\n",
       "        3.7395303e-08, 1.1808595e-04, 1.1887342e-09, 1.8917744e-13,\n",
       "        5.0688835e-09, 4.1957536e-14],\n",
       "       [4.7375415e-05, 2.2897886e-02, 3.7409263e-20, 6.3645039e-19,\n",
       "        2.4317679e-22, 1.0722804e-19, 1.5299205e-24, 2.4281527e-22,\n",
       "        9.7705472e-01, 2.6738630e-11],\n",
       "       [5.0167018e-01, 2.1190729e-02, 1.3875837e-07, 2.0584114e-06,\n",
       "        7.2461397e-08, 5.9785503e-05, 1.2646031e-10, 3.2418052e-10,\n",
       "        4.7669119e-01, 3.8588772e-04],\n",
       "       [9.9998784e-01, 5.4131890e-11, 3.3506251e-09, 1.5999869e-10,\n",
       "        1.7403449e-09, 6.1656302e-18, 4.1326347e-13, 4.1320901e-17,\n",
       "        1.2105814e-05, 7.3916337e-14],\n",
       "       [3.4049062e-16, 7.4524853e-10, 2.5585392e-03, 2.4495038e-04,\n",
       "        9.9328411e-01, 1.0690090e-12, 3.9123427e-03, 3.8768073e-17,\n",
       "        3.6495766e-15, 5.2312728e-13]], dtype=float32)"
      ]
     },
     "execution_count": 18,
     "metadata": {},
     "output_type": "execute_result"
    }
   ],
   "source": [
    "y_pred = model1.predict(x_test)\n",
    "y_pred[:5]"
   ]
  },
  {
   "cell_type": "code",
   "execution_count": 19,
   "id": "7f8eafe5",
   "metadata": {},
   "outputs": [
    {
     "data": {
      "text/plain": [
       "3"
      ]
     },
     "execution_count": 19,
     "metadata": {},
     "output_type": "execute_result"
    }
   ],
   "source": [
    "np.argmax(y_pred[0]) #predicted value at index 0"
   ]
  },
  {
   "cell_type": "code",
   "execution_count": 20,
   "id": "298691fe",
   "metadata": {},
   "outputs": [
    {
     "data": {
      "text/plain": [
       "3"
      ]
     },
     "execution_count": 20,
     "metadata": {},
     "output_type": "execute_result"
    }
   ],
   "source": [
    "y_test[0] #actual value at 0"
   ]
  },
  {
   "cell_type": "markdown",
   "id": "ce7aa2f5",
   "metadata": {},
   "source": [
    "As you both predicted and actual value is same "
   ]
  },
  {
   "cell_type": "code",
   "execution_count": 21,
   "id": "a9b967e9",
   "metadata": {},
   "outputs": [
    {
     "data": {
      "text/plain": [
       "[3, 8, 0, 0]"
      ]
     },
     "execution_count": 21,
     "metadata": {},
     "output_type": "execute_result"
    }
   ],
   "source": [
    "y_classes = [np.argmax(index) for index in y_pred]\n",
    "y_classes[:4]"
   ]
  },
  {
   "cell_type": "code",
   "execution_count": 22,
   "id": "b6d22bfa",
   "metadata": {},
   "outputs": [
    {
     "data": {
      "text/plain": [
       "array([3, 8, 8, 0], dtype=uint8)"
      ]
     },
     "execution_count": 22,
     "metadata": {},
     "output_type": "execute_result"
    }
   ],
   "source": [
    "y_test[:4]"
   ]
  },
  {
   "cell_type": "code",
   "execution_count": 23,
   "id": "81149549",
   "metadata": {},
   "outputs": [],
   "source": [
    "y_test = y_test.reshape(-1,)"
   ]
  },
  {
   "cell_type": "code",
   "execution_count": 24,
   "id": "19001758",
   "metadata": {},
   "outputs": [
    {
     "data": {
      "text/plain": [
       "array([3, 8, 8, 0], dtype=uint8)"
      ]
     },
     "execution_count": 24,
     "metadata": {},
     "output_type": "execute_result"
    }
   ],
   "source": [
    "y_test[:4]"
   ]
  },
  {
   "cell_type": "code",
   "execution_count": null,
   "id": "9918db2c",
   "metadata": {},
   "outputs": [],
   "source": []
  }
 ],
 "metadata": {
  "kernelspec": {
   "display_name": "Python 3 (ipykernel)",
   "language": "python",
   "name": "python3"
  },
  "language_info": {
   "codemirror_mode": {
    "name": "ipython",
    "version": 3
   },
   "file_extension": ".py",
   "mimetype": "text/x-python",
   "name": "python",
   "nbconvert_exporter": "python",
   "pygments_lexer": "ipython3",
   "version": "3.9.7"
  }
 },
 "nbformat": 4,
 "nbformat_minor": 5
}
